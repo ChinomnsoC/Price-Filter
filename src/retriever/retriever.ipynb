{
 "cells": [
  {
   "cell_type": "code",
   "execution_count": 7,
   "metadata": {},
   "outputs": [],
   "source": [
    "from bs4 import BeautifulSoup\n",
    "import requests"
   ]
  },
  {
   "cell_type": "code",
   "execution_count": 8,
   "metadata": {},
   "outputs": [
    {
     "data": {
      "text/plain": [
       "403"
      ]
     },
     "execution_count": 8,
     "metadata": {},
     "output_type": "execute_result"
    }
   ],
   "source": [
    "response = requests.get('https://www.currys.co.uk/products/lg-oled55cs6la-55-smart-4k-ultra-hd-hdr-oled-tv-with-google-assistant-and-amazon-alexa-10242981.html')\n",
    "response.status_code"
   ]
  },
  {
   "attachments": {},
   "cell_type": "markdown",
   "metadata": {},
   "source": [
    "I'm getting a 403. Meaning that the client side is preventing me from accessing their website."
   ]
  },
  {
   "cell_type": "code",
   "execution_count": null,
   "metadata": {},
   "outputs": [],
   "source": [
    "url = 'https://www.currys.co.uk/products/lg-oled55cs6la-55-smart-4k-ultra-hd-hdr-oled-tv-with-google-assistant-and-amazon-alexa-10242981.html'\n",
    "prod_page = BeautifulSoup(url)    \n",
    "print(prod_page.prettify())"
   ]
  }
 ],
 "metadata": {
  "kernelspec": {
   "display_name": "price-filter",
   "language": "python",
   "name": "python3"
  },
  "language_info": {
   "codemirror_mode": {
    "name": "ipython",
    "version": 3
   },
   "file_extension": ".py",
   "mimetype": "text/x-python",
   "name": "python",
   "nbconvert_exporter": "python",
   "pygments_lexer": "ipython3",
   "version": "3.9.6"
  },
  "orig_nbformat": 4,
  "vscode": {
   "interpreter": {
    "hash": "47b6e47769c831672b83f443dfcab781177619638d3a92f9fa4ada3302083dc0"
   }
  }
 },
 "nbformat": 4,
 "nbformat_minor": 2
}
